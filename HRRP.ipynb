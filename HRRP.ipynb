{
  "nbformat": 4,
  "nbformat_minor": 0,
  "metadata": {
    "colab": {
      "provenance": []
    },
    "kernelspec": {
      "name": "python3",
      "display_name": "Python 3"
    },
    "language_info": {
      "name": "python"
    }
  },
  "cells": [
    {
      "cell_type": "code",
      "execution_count": 3,
      "metadata": {
        "colab": {
          "base_uri": "https://localhost:8080/",
          "height": 74
        },
        "id": "H4nYia4HhFia",
        "outputId": "a236f1f3-8f0b-4c87-d5c1-a95b6711a6b1"
      },
      "outputs": [
        {
          "output_type": "display_data",
          "data": {
            "text/plain": [
              "<IPython.core.display.HTML object>"
            ],
            "text/html": [
              "\n",
              "     <input type=\"file\" id=\"files-3b3b2f10-9039-4fd2-9e0c-5751703d8058\" name=\"files[]\" multiple disabled\n",
              "        style=\"border:none\" />\n",
              "     <output id=\"result-3b3b2f10-9039-4fd2-9e0c-5751703d8058\">\n",
              "      Upload widget is only available when the cell has been executed in the\n",
              "      current browser session. Please rerun this cell to enable.\n",
              "      </output>\n",
              "      <script>// Copyright 2017 Google LLC\n",
              "//\n",
              "// Licensed under the Apache License, Version 2.0 (the \"License\");\n",
              "// you may not use this file except in compliance with the License.\n",
              "// You may obtain a copy of the License at\n",
              "//\n",
              "//      http://www.apache.org/licenses/LICENSE-2.0\n",
              "//\n",
              "// Unless required by applicable law or agreed to in writing, software\n",
              "// distributed under the License is distributed on an \"AS IS\" BASIS,\n",
              "// WITHOUT WARRANTIES OR CONDITIONS OF ANY KIND, either express or implied.\n",
              "// See the License for the specific language governing permissions and\n",
              "// limitations under the License.\n",
              "\n",
              "/**\n",
              " * @fileoverview Helpers for google.colab Python module.\n",
              " */\n",
              "(function(scope) {\n",
              "function span(text, styleAttributes = {}) {\n",
              "  const element = document.createElement('span');\n",
              "  element.textContent = text;\n",
              "  for (const key of Object.keys(styleAttributes)) {\n",
              "    element.style[key] = styleAttributes[key];\n",
              "  }\n",
              "  return element;\n",
              "}\n",
              "\n",
              "// Max number of bytes which will be uploaded at a time.\n",
              "const MAX_PAYLOAD_SIZE = 100 * 1024;\n",
              "\n",
              "function _uploadFiles(inputId, outputId) {\n",
              "  const steps = uploadFilesStep(inputId, outputId);\n",
              "  const outputElement = document.getElementById(outputId);\n",
              "  // Cache steps on the outputElement to make it available for the next call\n",
              "  // to uploadFilesContinue from Python.\n",
              "  outputElement.steps = steps;\n",
              "\n",
              "  return _uploadFilesContinue(outputId);\n",
              "}\n",
              "\n",
              "// This is roughly an async generator (not supported in the browser yet),\n",
              "// where there are multiple asynchronous steps and the Python side is going\n",
              "// to poll for completion of each step.\n",
              "// This uses a Promise to block the python side on completion of each step,\n",
              "// then passes the result of the previous step as the input to the next step.\n",
              "function _uploadFilesContinue(outputId) {\n",
              "  const outputElement = document.getElementById(outputId);\n",
              "  const steps = outputElement.steps;\n",
              "\n",
              "  const next = steps.next(outputElement.lastPromiseValue);\n",
              "  return Promise.resolve(next.value.promise).then((value) => {\n",
              "    // Cache the last promise value to make it available to the next\n",
              "    // step of the generator.\n",
              "    outputElement.lastPromiseValue = value;\n",
              "    return next.value.response;\n",
              "  });\n",
              "}\n",
              "\n",
              "/**\n",
              " * Generator function which is called between each async step of the upload\n",
              " * process.\n",
              " * @param {string} inputId Element ID of the input file picker element.\n",
              " * @param {string} outputId Element ID of the output display.\n",
              " * @return {!Iterable<!Object>} Iterable of next steps.\n",
              " */\n",
              "function* uploadFilesStep(inputId, outputId) {\n",
              "  const inputElement = document.getElementById(inputId);\n",
              "  inputElement.disabled = false;\n",
              "\n",
              "  const outputElement = document.getElementById(outputId);\n",
              "  outputElement.innerHTML = '';\n",
              "\n",
              "  const pickedPromise = new Promise((resolve) => {\n",
              "    inputElement.addEventListener('change', (e) => {\n",
              "      resolve(e.target.files);\n",
              "    });\n",
              "  });\n",
              "\n",
              "  const cancel = document.createElement('button');\n",
              "  inputElement.parentElement.appendChild(cancel);\n",
              "  cancel.textContent = 'Cancel upload';\n",
              "  const cancelPromise = new Promise((resolve) => {\n",
              "    cancel.onclick = () => {\n",
              "      resolve(null);\n",
              "    };\n",
              "  });\n",
              "\n",
              "  // Wait for the user to pick the files.\n",
              "  const files = yield {\n",
              "    promise: Promise.race([pickedPromise, cancelPromise]),\n",
              "    response: {\n",
              "      action: 'starting',\n",
              "    }\n",
              "  };\n",
              "\n",
              "  cancel.remove();\n",
              "\n",
              "  // Disable the input element since further picks are not allowed.\n",
              "  inputElement.disabled = true;\n",
              "\n",
              "  if (!files) {\n",
              "    return {\n",
              "      response: {\n",
              "        action: 'complete',\n",
              "      }\n",
              "    };\n",
              "  }\n",
              "\n",
              "  for (const file of files) {\n",
              "    const li = document.createElement('li');\n",
              "    li.append(span(file.name, {fontWeight: 'bold'}));\n",
              "    li.append(span(\n",
              "        `(${file.type || 'n/a'}) - ${file.size} bytes, ` +\n",
              "        `last modified: ${\n",
              "            file.lastModifiedDate ? file.lastModifiedDate.toLocaleDateString() :\n",
              "                                    'n/a'} - `));\n",
              "    const percent = span('0% done');\n",
              "    li.appendChild(percent);\n",
              "\n",
              "    outputElement.appendChild(li);\n",
              "\n",
              "    const fileDataPromise = new Promise((resolve) => {\n",
              "      const reader = new FileReader();\n",
              "      reader.onload = (e) => {\n",
              "        resolve(e.target.result);\n",
              "      };\n",
              "      reader.readAsArrayBuffer(file);\n",
              "    });\n",
              "    // Wait for the data to be ready.\n",
              "    let fileData = yield {\n",
              "      promise: fileDataPromise,\n",
              "      response: {\n",
              "        action: 'continue',\n",
              "      }\n",
              "    };\n",
              "\n",
              "    // Use a chunked sending to avoid message size limits. See b/62115660.\n",
              "    let position = 0;\n",
              "    do {\n",
              "      const length = Math.min(fileData.byteLength - position, MAX_PAYLOAD_SIZE);\n",
              "      const chunk = new Uint8Array(fileData, position, length);\n",
              "      position += length;\n",
              "\n",
              "      const base64 = btoa(String.fromCharCode.apply(null, chunk));\n",
              "      yield {\n",
              "        response: {\n",
              "          action: 'append',\n",
              "          file: file.name,\n",
              "          data: base64,\n",
              "        },\n",
              "      };\n",
              "\n",
              "      let percentDone = fileData.byteLength === 0 ?\n",
              "          100 :\n",
              "          Math.round((position / fileData.byteLength) * 100);\n",
              "      percent.textContent = `${percentDone}% done`;\n",
              "\n",
              "    } while (position < fileData.byteLength);\n",
              "  }\n",
              "\n",
              "  // All done.\n",
              "  yield {\n",
              "    response: {\n",
              "      action: 'complete',\n",
              "    }\n",
              "  };\n",
              "}\n",
              "\n",
              "scope.google = scope.google || {};\n",
              "scope.google.colab = scope.google.colab || {};\n",
              "scope.google.colab._files = {\n",
              "  _uploadFiles,\n",
              "  _uploadFilesContinue,\n",
              "};\n",
              "})(self);\n",
              "</script> "
            ]
          },
          "metadata": {}
        },
        {
          "output_type": "stream",
          "name": "stdout",
          "text": [
            "Saving FY_2024_Hospital_Readmissions_Reduction_Program_Hospital.csv to FY_2024_Hospital_Readmissions_Reduction_Program_Hospital.csv\n"
          ]
        }
      ],
      "source": [
        "# Step 1: Load the dataset\n",
        "# Upload files\n",
        "import pandas as pd\n",
        "from google.colab import files\n",
        "uploaded = files.upload()\n",
        "df = pd.read_csv('FY_2024_Hospital_Readmissions_Reduction_Program_Hospital.csv')"
      ]
    },
    {
      "cell_type": "code",
      "source": [
        "print(df.head())\n",
        "print(df.info())\n",
        "print(df.describe())"
      ],
      "metadata": {
        "colab": {
          "base_uri": "https://localhost:8080/"
        },
        "id": "54zGxXfehQec",
        "outputId": "1f738d9b-152f-47cb-c127-e9e782e7c644"
      },
      "execution_count": 4,
      "outputs": [
        {
          "output_type": "stream",
          "name": "stdout",
          "text": [
            "                     Facility Name  Facility ID State            Measure Name  \\\n",
            "0  SOUTHEAST HEALTH MEDICAL CENTER        10001    AL  READM-30-HIP-KNEE-HRRP   \n",
            "1  SOUTHEAST HEALTH MEDICAL CENTER        10001    AL        READM-30-HF-HRRP   \n",
            "2  SOUTHEAST HEALTH MEDICAL CENTER        10001    AL       READM-30-AMI-HRRP   \n",
            "3  SOUTHEAST HEALTH MEDICAL CENTER        10001    AL        READM-30-PN-HRRP   \n",
            "4  SOUTHEAST HEALTH MEDICAL CENTER        10001    AL      READM-30-CABG-HRRP   \n",
            "\n",
            "   Number of Discharges  Footnote  Excess Readmission Ratio  \\\n",
            "0                   NaN       NaN                    0.8916   \n",
            "1                 616.0       NaN                    1.1003   \n",
            "2                 274.0       NaN                    0.9332   \n",
            "3                 404.0       NaN                    0.9871   \n",
            "4                 126.0       NaN                    0.9517   \n",
            "\n",
            "   Predicted Readmission Rate  Expected Readmission Rate  \\\n",
            "0                      3.5325                     3.9618   \n",
            "1                     23.1263                    21.0184   \n",
            "2                     12.9044                    13.8283   \n",
            "3                     17.0529                    17.2762   \n",
            "4                      9.8131                    10.3112   \n",
            "\n",
            "  Number of Readmissions  Start Date    End Date  \n",
            "0      Too Few to Report  07/01/2019  06/30/2022  \n",
            "1                    149  07/01/2019  06/30/2022  \n",
            "2                     32  07/01/2019  06/30/2022  \n",
            "3                     68  07/01/2019  06/30/2022  \n",
            "4                     11  07/01/2019  06/30/2022  \n",
            "<class 'pandas.core.frame.DataFrame'>\n",
            "RangeIndex: 18774 entries, 0 to 18773\n",
            "Data columns (total 12 columns):\n",
            " #   Column                      Non-Null Count  Dtype  \n",
            "---  ------                      --------------  -----  \n",
            " 0   Facility Name               18774 non-null  object \n",
            " 1   Facility ID                 18774 non-null  int64  \n",
            " 2   State                       18774 non-null  object \n",
            " 3   Measure Name                18774 non-null  object \n",
            " 4   Number of Discharges        8094 non-null   float64\n",
            " 5   Footnote                    6697 non-null   float64\n",
            " 6   Excess Readmission Ratio    12077 non-null  float64\n",
            " 7   Predicted Readmission Rate  12077 non-null  float64\n",
            " 8   Expected Readmission Rate   12077 non-null  float64\n",
            " 9   Number of Readmissions      12077 non-null  object \n",
            " 10  Start Date                  18774 non-null  object \n",
            " 11  End Date                    18774 non-null  object \n",
            "dtypes: float64(5), int64(1), object(6)\n",
            "memory usage: 1.7+ MB\n",
            "None\n",
            "         Facility ID  Number of Discharges     Footnote  \\\n",
            "count   18774.000000           8094.000000  6697.000000   \n",
            "mean   261506.077661            244.251915     3.147230   \n",
            "std    163743.437584            227.648660     2.084349   \n",
            "min     10001.000000              0.000000     1.000000   \n",
            "25%    110086.000000            105.000000     1.000000   \n",
            "50%    250049.000000            176.000000     5.000000   \n",
            "75%    390113.000000            308.000000     5.000000   \n",
            "max    670319.000000           4994.000000     7.000000   \n",
            "\n",
            "       Excess Readmission Ratio  Predicted Readmission Rate  \\\n",
            "count              12077.000000                12077.000000   \n",
            "mean                   1.001776                   15.098235   \n",
            "std                    0.077018                    5.480391   \n",
            "min                    0.615900                    1.927900   \n",
            "25%                    0.958000                   12.436800   \n",
            "50%                    0.997800                   16.485500   \n",
            "75%                    1.041900                   19.056700   \n",
            "max                    1.516200                   28.147200   \n",
            "\n",
            "       Expected Readmission Rate  \n",
            "count               12077.000000  \n",
            "mean                   15.066446  \n",
            "std                     5.354170  \n",
            "min                     2.674900  \n",
            "25%                    12.495800  \n",
            "50%                    16.571000  \n",
            "75%                    19.139000  \n",
            "max                    26.268400  \n"
          ]
        }
      ]
    },
    {
      "cell_type": "code",
      "source": [
        "# Convert 'Start Date' and 'End Date' to datetime\n",
        "df['Start Date'] = pd.to_datetime(df['Start Date'])\n",
        "df['End Date'] = pd.to_datetime(df['End Date'])\n",
        "\n",
        "# Fill missing values\n",
        "df['Number of Discharges'].fillna(df['Number of Discharges'].median(), inplace=True)\n",
        "df['Footnote'].fillna(0, inplace=True)\n",
        "df['Excess Readmission Ratio'].fillna(df['Excess Readmission Ratio'].mean(), inplace=True)\n",
        "df['Predicted Readmission Rate'].fillna(df['Predicted Readmission Rate'].mean(), inplace=True)\n",
        "df['Expected Readmission Rate'].fillna(df['Expected Readmission Rate'].mean(), inplace=True)\n",
        "\n",
        "# Convert 'Number of Readmissions' to numeric\n",
        "df['Number of Readmissions'] = pd.to_numeric(df['Number of Readmissions'], errors='coerce')\n",
        "df['Number of Readmissions'].fillna(df['Number of Readmissions'].median(), inplace=True)\n"
      ],
      "metadata": {
        "id": "iLi6I7BahnM5"
      },
      "execution_count": 5,
      "outputs": []
    },
    {
      "cell_type": "code",
      "source": [
        "print(df.head())"
      ],
      "metadata": {
        "colab": {
          "base_uri": "https://localhost:8080/"
        },
        "id": "3M2i5M2viZ7w",
        "outputId": "00736638-7b43-41a5-a5ec-d85e18eadd05"
      },
      "execution_count": 6,
      "outputs": [
        {
          "output_type": "stream",
          "name": "stdout",
          "text": [
            "                     Facility Name  Facility ID State            Measure Name  \\\n",
            "0  SOUTHEAST HEALTH MEDICAL CENTER        10001    AL  READM-30-HIP-KNEE-HRRP   \n",
            "1  SOUTHEAST HEALTH MEDICAL CENTER        10001    AL        READM-30-HF-HRRP   \n",
            "2  SOUTHEAST HEALTH MEDICAL CENTER        10001    AL       READM-30-AMI-HRRP   \n",
            "3  SOUTHEAST HEALTH MEDICAL CENTER        10001    AL        READM-30-PN-HRRP   \n",
            "4  SOUTHEAST HEALTH MEDICAL CENTER        10001    AL      READM-30-CABG-HRRP   \n",
            "\n",
            "   Number of Discharges  Footnote  Excess Readmission Ratio  \\\n",
            "0                 176.0       0.0                    0.8916   \n",
            "1                 616.0       0.0                    1.1003   \n",
            "2                 274.0       0.0                    0.9332   \n",
            "3                 404.0       0.0                    0.9871   \n",
            "4                 126.0       0.0                    0.9517   \n",
            "\n",
            "   Predicted Readmission Rate  Expected Readmission Rate  \\\n",
            "0                      3.5325                     3.9618   \n",
            "1                     23.1263                    21.0184   \n",
            "2                     12.9044                    13.8283   \n",
            "3                     17.0529                    17.2762   \n",
            "4                      9.8131                    10.3112   \n",
            "\n",
            "   Number of Readmissions Start Date   End Date  \n",
            "0                    29.0 2019-07-01 2022-06-30  \n",
            "1                   149.0 2019-07-01 2022-06-30  \n",
            "2                    32.0 2019-07-01 2022-06-30  \n",
            "3                    68.0 2019-07-01 2022-06-30  \n",
            "4                    11.0 2019-07-01 2022-06-30  \n"
          ]
        }
      ]
    },
    {
      "cell_type": "code",
      "source": [
        "import matplotlib.pyplot as plt\n",
        "import seaborn as sns\n",
        "\n",
        "# Select only numeric columns for the correlation matrix\n",
        "numeric_features = df.select_dtypes(include=['float64', 'int64'])\n",
        "\n",
        "# Plot correlation matrix\n",
        "corr_matrix = numeric_features.corr()\n",
        "plt.figure(figsize=(12, 8))\n",
        "sns.heatmap(corr_matrix, annot=True, cmap='coolwarm')\n",
        "plt.title('Correlation Matrix of Numeric Features')\n",
        "plt.show()\n"
      ],
      "metadata": {
        "colab": {
          "base_uri": "https://localhost:8080/",
          "height": 878
        },
        "id": "Khwj-TUhiwaY",
        "outputId": "ed482c73-bad4-464a-f01b-44cbcf981b39"
      },
      "execution_count": 7,
      "outputs": [
        {
          "output_type": "display_data",
          "data": {
            "text/plain": [
              "<Figure size 1200x800 with 2 Axes>"
            ],
            "image/png": "[encoded data removed]"
          },
          "metadata": {}
        }
      ]
    },
    {
      "cell_type": "code",
      "source": [
        "# Create a feature for the duration between Start Date and End Date\n",
        "df['Duration'] = (df['End Date'] - df['Start Date']).dt.days\n",
        "\n",
        "# Drop highly correlated features\n",
        "df = df.drop(['Expected Readmission Rate'], axis=1)"
      ],
      "metadata": {
        "id": "UVcnVLW-i1b5"
      },
      "execution_count": 8,
      "outputs": []
    },
    {
      "cell_type": "code",
      "source": [
        "# Convert categorical variables to numeric using one-hot encoding\n",
        "data_encoded = pd.get_dummies(df, columns=['State', 'Measure Name'])\n"
      ],
      "metadata": {
        "id": "z3eyRAzwj7bl"
      },
      "execution_count": 9,
      "outputs": []
    },
    {
      "cell_type": "code",
      "source": [
        "from sklearn.preprocessing import StandardScaler\n",
        "\n",
        "# Define features and target variable\n",
        "features = data_encoded.drop(['Facility Name', 'Facility ID', 'Start Date', 'End Date', 'Excess Readmission Ratio'], axis=1)\n",
        "target = data_encoded['Excess Readmission Ratio']\n",
        "\n",
        "# Initialize the scaler\n",
        "scaler = StandardScaler()\n",
        "\n",
        "# Fit and transform the features\n",
        "scaled_features = scaler.fit_transform(features)\n",
        "\n",
        "# Convert the scaled features back to a DataFrame\n",
        "scaled_features_df = pd.DataFrame(scaled_features, columns=features.columns)\n",
        "\n",
        "# Display the first few rows of the final scaled features\n",
        "print(scaled_features_df.head())"
      ],
      "metadata": {
        "colab": {
          "base_uri": "https://localhost:8080/"
        },
        "id": "JzTE-ntdkHeN",
        "outputId": "2d756bf5-f45b-41ff-e616-075b16642b58"
      },
      "execution_count": 10,
      "outputs": [
        {
          "output_type": "stream",
          "name": "stdout",
          "text": [
            "   Number of Discharges  Footnote  Predicted Readmission Rate  \\\n",
            "0             -0.192021 -0.574224                   -2.631350   \n",
            "1              2.679293 -0.574224                    1.826485   \n",
            "2              0.447499 -0.574224                   -0.499125   \n",
            "3              1.295842 -0.574224                    0.444711   \n",
            "4             -0.518307 -0.574224                   -1.202435   \n",
            "\n",
            "   Number of Readmissions  Duration  State_AK  State_AL  State_AR  State_AZ  \\\n",
            "0               -0.206766       0.0 -0.050629  6.134299  -0.12215 -0.144502   \n",
            "1                4.187176       0.0 -0.050629  6.134299  -0.12215 -0.144502   \n",
            "2               -0.096918       0.0 -0.050629  6.134299  -0.12215 -0.144502   \n",
            "3                1.221265       0.0 -0.050629  6.134299  -0.12215 -0.144502   \n",
            "4               -0.865858       0.0 -0.050629  6.134299  -0.12215 -0.144502   \n",
            "\n",
            "   State_CA  ...  State_WA  State_WI  State_WV  State_WY  \\\n",
            "0 -0.313497  ...  -0.12349 -0.147923 -0.089745 -0.056623   \n",
            "1 -0.313497  ...  -0.12349 -0.147923 -0.089745 -0.056623   \n",
            "2 -0.313497  ...  -0.12349 -0.147923 -0.089745 -0.056623   \n",
            "3 -0.313497  ...  -0.12349 -0.147923 -0.089745 -0.056623   \n",
            "4 -0.313497  ...  -0.12349 -0.147923 -0.089745 -0.056623   \n",
            "\n",
            "   Measure Name_READM-30-AMI-HRRP  Measure Name_READM-30-CABG-HRRP  \\\n",
            "0                       -0.447214                        -0.447214   \n",
            "1                       -0.447214                        -0.447214   \n",
            "2                        2.236068                        -0.447214   \n",
            "3                       -0.447214                        -0.447214   \n",
            "4                       -0.447214                         2.236068   \n",
            "\n",
            "   Measure Name_READM-30-COPD-HRRP  Measure Name_READM-30-HF-HRRP  \\\n",
            "0                        -0.447214                      -0.447214   \n",
            "1                        -0.447214                       2.236068   \n",
            "2                        -0.447214                      -0.447214   \n",
            "3                        -0.447214                      -0.447214   \n",
            "4                        -0.447214                      -0.447214   \n",
            "\n",
            "   Measure Name_READM-30-HIP-KNEE-HRRP  Measure Name_READM-30-PN-HRRP  \n",
            "0                             2.236068                      -0.447214  \n",
            "1                            -0.447214                      -0.447214  \n",
            "2                            -0.447214                      -0.447214  \n",
            "3                            -0.447214                       2.236068  \n",
            "4                            -0.447214                      -0.447214  \n",
            "\n",
            "[5 rows x 62 columns]\n"
          ]
        }
      ]
    },
    {
      "cell_type": "code",
      "source": [
        "from sklearn.model_selection import train_test_split\n",
        "\n",
        "# Define features and target variable\n",
        "X = scaled_features_df  # Scaled features from Step 4\n",
        "y = data_encoded['Excess Readmission Ratio']  # Target variable\n",
        "\n",
        "# Split data into training and testing sets\n",
        "X_train, X_test, y_train, y_test = train_test_split(X, y, test_size=0.3, random_state=42)\n",
        "\n",
        "# Display the first few rows of the training features\n",
        "print(X_train.head())"
      ],
      "metadata": {
        "colab": {
          "base_uri": "https://localhost:8080/"
        },
        "id": "KH-_G7uakKCa",
        "outputId": "2702988a-b428-4274-a1e2-09722da292c7"
      },
      "execution_count": 11,
      "outputs": [
        {
          "output_type": "stream",
          "name": "stdout",
          "text": [
            "      Number of Discharges  Footnote  Predicted Readmission Rate  \\\n",
            "6369             -0.192021  1.983181                    0.000000   \n",
            "3597             -0.890273 -0.574224                    0.967034   \n",
            "2201             -0.192021  1.983181                    0.000000   \n",
            "8453             -0.192021 -0.062743                    0.000000   \n",
            "1579             -0.192021 -0.062743                    0.000000   \n",
            "\n",
            "      Number of Readmissions  Duration  State_AK  State_AL  State_AR  \\\n",
            "6369               -0.206766       0.0 -0.050629 -0.163018  -0.12215   \n",
            "3597               -0.609544       0.0 -0.050629 -0.163018  -0.12215   \n",
            "2201               -0.206766       0.0 -0.050629 -0.163018  -0.12215   \n",
            "8453               -0.206766       0.0 -0.050629 -0.163018  -0.12215   \n",
            "1579               -0.206766       0.0 -0.050629 -0.163018  -0.12215   \n",
            "\n",
            "      State_AZ  State_CA  ...  State_WA  State_WI  State_WV  State_WY  \\\n",
            "6369 -0.144502 -0.313497  ...  -0.12349 -0.147923 -0.089745 -0.056623   \n",
            "3597 -0.144502 -0.313497  ...  -0.12349 -0.147923 -0.089745 -0.056623   \n",
            "2201 -0.144502  3.189828  ...  -0.12349 -0.147923 -0.089745 -0.056623   \n",
            "8453 -0.144502 -0.313497  ...  -0.12349 -0.147923 -0.089745 -0.056623   \n",
            "1579 -0.144502  3.189828  ...  -0.12349 -0.147923 -0.089745 -0.056623   \n",
            "\n",
            "      Measure Name_READM-30-AMI-HRRP  Measure Name_READM-30-CABG-HRRP  \\\n",
            "6369                       -0.447214                        -0.447214   \n",
            "3597                       -0.447214                        -0.447214   \n",
            "2201                       -0.447214                         2.236068   \n",
            "8453                        2.236068                        -0.447214   \n",
            "1579                       -0.447214                         2.236068   \n",
            "\n",
            "      Measure Name_READM-30-COPD-HRRP  Measure Name_READM-30-HF-HRRP  \\\n",
            "6369                         2.236068                      -0.447214   \n",
            "3597                         2.236068                      -0.447214   \n",
            "2201                        -0.447214                      -0.447214   \n",
            "8453                        -0.447214                      -0.447214   \n",
            "1579                        -0.447214                      -0.447214   \n",
            "\n",
            "      Measure Name_READM-30-HIP-KNEE-HRRP  Measure Name_READM-30-PN-HRRP  \n",
            "6369                            -0.447214                      -0.447214  \n",
            "3597                            -0.447214                      -0.447214  \n",
            "2201                            -0.447214                      -0.447214  \n",
            "8453                            -0.447214                      -0.447214  \n",
            "1579                            -0.447214                      -0.447214  \n",
            "\n",
            "[5 rows x 62 columns]\n"
          ]
        }
      ]
    },
    {
      "cell_type": "code",
      "source": [
        "from sklearn.ensemble import RandomForestRegressor\n",
        "from sklearn.metrics import mean_squared_error, r2_score\n",
        "from sklearn.model_selection import cross_val_score\n",
        "\n",
        "# Initialize the model\n",
        "model = RandomForestRegressor(n_estimators=100, random_state=42)\n",
        "\n",
        "# Train the model\n",
        "model.fit(X_train, y_train)\n",
        "\n",
        "# Make predictions on the training data\n",
        "y_train_pred = model.predict(X_train)\n",
        "\n",
        "# Make predictions on the test data\n",
        "y_test_pred = model.predict(X_test)\n",
        "\n",
        "# Evaluate the model on training data\n",
        "train_mse = mean_squared_error(y_train, y_train_pred)\n",
        "train_r2 = r2_score(y_train, y_train_pred)\n",
        "print(f'Training Mean Squared Error: {train_mse}')\n",
        "print(f'Training R2 Score: {train_r2}')\n",
        "\n",
        "# Evaluate the model on test data\n",
        "test_mse = mean_squared_error(y_test, y_test_pred)\n",
        "test_r2 = r2_score(y_test, y_test_pred)\n",
        "print(f'Test Mean Squared Error: {test_mse}')\n",
        "print(f'Test R2 Score: {test_r2}')\n",
        "\n",
        "# Perform 5-fold cross-validation\n",
        "cv_scores = cross_val_score(model, X, y, cv=5, scoring='r2')\n",
        "\n",
        "print(f'Cross-Validation R2 Scores: {cv_scores}')\n",
        "print(f'Average Cross-Validation R2 Score: {cv_scores.mean()}')\n",
        "\n"
      ],
      "metadata": {
        "colab": {
          "base_uri": "https://localhost:8080/"
        },
        "id": "Yrb9LD3Nkq-x",
        "outputId": "85813019-e487-4a0b-903e-3c4e9d6cd1e1"
      },
      "execution_count": 12,
      "outputs": [
        {
          "output_type": "stream",
          "name": "stdout",
          "text": [
            "Training Mean Squared Error: 0.000207872367314458\n",
            "Training R2 Score: 0.9466123594387499\n",
            "Test Mean Squared Error: 0.0014368646805875494\n",
            "Test R2 Score: 0.6044278695331071\n",
            "Cross-Validation R2 Scores: [0.57845416 0.65172103 0.62462626 0.61347114 0.62190032]\n",
            "Average Cross-Validation R2 Score: 0.618034581526451\n"
          ]
        }
      ]
    },
    {
      "cell_type": "code",
      "source": [
        "from sklearn.linear_model import Ridge\n",
        "from sklearn.model_selection import GridSearchCV\n",
        "\n",
        "# Initialize the model\n",
        "ridge = Ridge()\n",
        "\n",
        "# Define the parameter grid\n",
        "param_grid = {'alpha': [0.1, 1.0, 10.0, 100.0]}\n",
        "\n",
        "# Initialize Grid Search\n",
        "grid_search = GridSearchCV(ridge, param_grid, cv=5, scoring='r2')\n",
        "\n",
        "# Fit the model\n",
        "grid_search.fit(X_train, y_train)\n",
        "\n",
        "# Best parameters and model\n",
        "best_ridge = grid_search.best_estimator_\n",
        "print(f'Best Parameters: {grid_search.best_params_}')\n",
        "\n",
        "# Evaluate on training data\n",
        "y_train_pred_ridge = best_ridge.predict(X_train)\n",
        "train_r2_ridge = r2_score(y_train, y_train_pred_ridge)\n",
        "print(f'Ridge Training R2 Score: {train_r2_ridge}')\n",
        "\n",
        "# Evaluate on test data\n",
        "y_test_pred_ridge = best_ridge.predict(X_test)\n",
        "test_r2_ridge = r2_score(y_test, y_test_pred_ridge)\n",
        "print(f'Ridge Test R2 Score: {test_r2_ridge}')\n"
      ],
      "metadata": {
        "colab": {
          "base_uri": "https://localhost:8080/"
        },
        "id": "qChb0KhSlL81",
        "outputId": "dc303133-2d37-4489-a0cb-85bb8a255d52"
      },
      "execution_count": 14,
      "outputs": [
        {
          "output_type": "stream",
          "name": "stdout",
          "text": [
            "Best Parameters: {'alpha': 100.0}\n",
            "Ridge Training R2 Score: 0.16537694692471416\n",
            "Ridge Test R2 Score: 0.1910345640593224\n"
          ]
        }
      ]
    },
    {
      "cell_type": "code",
      "source": [
        "from sklearn.ensemble import RandomForestRegressor\n",
        "from sklearn.model_selection import RandomizedSearchCV\n",
        "\n",
        "# Initialize the model\n",
        "rf = RandomForestRegressor(random_state=42)\n",
        "\n",
        "# Define the parameter grid\n",
        "param_dist = {\n",
        "    'n_estimators': [50, 100, 200],\n",
        "    'max_depth': [None, 10, 20, 30],\n",
        "    'min_samples_split': [2, 5, 10],\n",
        "    'min_samples_leaf': [1, 2, 4],\n",
        "    'bootstrap': [True, False]\n",
        "}\n",
        "\n",
        "# Initialize Randomized Search\n",
        "random_search = RandomizedSearchCV(rf, param_dist, cv=5, n_iter=50, scoring='r2', random_state=42, n_jobs=-1)\n",
        "\n",
        "# Fit the model\n",
        "random_search.fit(X_train, y_train)\n",
        "\n",
        "# Best parameters and model\n",
        "best_rf = random_search.best_estimator_\n",
        "print(f'Best Parameters: {random_search.best_params_}')\n",
        "\n",
        "# Evaluate on training data\n",
        "y_train_pred_rf = best_rf.predict(X_train)\n",
        "train_r2_rf = r2_score(y_train, y_train_pred_rf)\n",
        "print(f'Random Forest Training R2 Score: {train_r2_rf}')\n",
        "\n",
        "# Evaluate on test data\n",
        "y_test_pred_rf = best_rf.predict(X_test)\n",
        "test_r2_rf = r2_score(y_test, y_test_pred_rf)\n",
        "print(f'Random Forest Test R2 Score: {test_r2_rf}')\n"
      ],
      "metadata": {
        "colab": {
          "base_uri": "https://localhost:8080/"
        },
        "id": "-xpVF2jiDQJX",
        "outputId": "75ecf7f5-24c1-4f66-abd3-ee028f9546d6"
      },
      "execution_count": 15,
      "outputs": [
        {
          "output_type": "stream",
          "name": "stdout",
          "text": [
            "Best Parameters: {'n_estimators': 100, 'min_samples_split': 5, 'min_samples_leaf': 2, 'max_depth': 20, 'bootstrap': True}\n",
            "Random Forest Training R2 Score: 0.8394543571941442\n",
            "Random Forest Test R2 Score: 0.6270838686454532\n"
          ]
        }
      ]
    },
    {
      "cell_type": "code",
      "source": [
        "from sklearn.metrics import mean_absolute_error, mean_squared_error\n",
        "\n",
        "# Assuming 'best_rf' is your trained RandomForestRegressor model\n",
        "# Evaluate on training data\n",
        "y_train_pred_rf = best_rf.predict(X_train)\n",
        "train_mae_rf = mean_absolute_error(y_train, y_train_pred_rf)\n",
        "train_mse_rf = mean_squared_error(y_train, y_train_pred_rf)\n",
        "\n",
        "print(f'Random Forest Training MAE: {train_mae_rf}')\n",
        "print(f'Random Forest Training MSE: {train_mse_rf}')\n",
        "\n",
        "# Evaluate on test data\n",
        "y_test_pred_rf = best_rf.predict(X_test)\n",
        "test_mae_rf = mean_absolute_error(y_test, y_test_pred_rf)\n",
        "test_mse_rf = mean_squared_error(y_test, y_test_pred_rf)\n",
        "\n",
        "print(f'Random Forest Test MAE: {test_mae_rf}')\n",
        "print(f'Random Forest Test MSE: {test_mse_rf}')\n"
      ],
      "metadata": {
        "colab": {
          "base_uri": "https://localhost:8080/"
        },
        "id": "jDzohREIDh47",
        "outputId": "c06aafb3-2669-4fcf-b4ae-e2306d92a9b1"
      },
      "execution_count": 16,
      "outputs": [
        {
          "output_type": "stream",
          "name": "stdout",
          "text": [
            "Random Forest Training MAE: 0.012953886455207142\n",
            "Random Forest Training MSE: 0.000625107281034207\n",
            "Random Forest Test MAE: 0.019618718811168424\n",
            "Random Forest Test MSE: 0.0013545696895589097\n"
          ]
        }
      ]
    },
    {
      "cell_type": "code",
      "source": [],
      "metadata": {
        "id": "ygwHabWzewMC"
      },
      "execution_count": 16,
      "outputs": []
    }
  ]
}